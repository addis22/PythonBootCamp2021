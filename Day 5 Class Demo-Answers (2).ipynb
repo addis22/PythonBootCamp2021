{
 "cells": [
  {
   "cell_type": "markdown",
   "metadata": {},
   "source": [
    "### Exercise 1\n",
    "Write the result of following bitwise operation when :\n",
    "\n",
    "    a = 12\n",
    "    b = 15\n",
    "\n",
    "    a & b"
   ]
  },
  {
   "cell_type": "code",
   "execution_count": 1,
   "metadata": {},
   "outputs": [
    {
     "data": {
      "text/plain": [
       "0"
      ]
     },
     "execution_count": 1,
     "metadata": {},
     "output_type": "execute_result"
    }
   ],
   "source": [
    "a = 12              # 0000 1100\n",
    "b = 49              # 0011 0001\n",
    "\n",
    "a & b               # 0000 0000"
   ]
  },
  {
   "cell_type": "markdown",
   "metadata": {},
   "source": [
    "### Exercise 2\n",
    "<b>even_number</b> function returns boolean values:\n",
    "    \n",
    "    <b>True</b> if a number is an even number \n",
    "    <b>False</b> if a number is an odd number\n",
    "\n",
    "Then, in the main program, ask a user for a number and display whether the number is an <b>even</b> or <b>odd</b> number.\n",
    "\n",
    "Fix/modify code to show output something like this:\n",
    "\n",
    "        Enter a number: 10\n",
    "        10 is an even number.\n",
    "        \n",
    "        Enter a number: 11\n",
    "        11 is an odd number."
   ]
  },
  {
   "cell_type": "code",
   "execution_count": null,
   "metadata": {},
   "outputs": [],
   "source": [
    "# original with errors\n",
    "\n",
    "define even-number(arg) \n",
    "    if (arg % 2) == 0 :\n",
    "        retval = true\n",
    "    else :\n",
    "        retval = false\n",
    "        \n",
    "    return arg    \n",
    "        "
   ]
  },
  {
   "cell_type": "code",
   "execution_count": null,
   "metadata": {},
   "outputs": [],
   "source": [
    "numb = input(\"Enter a number: \") \n",
    "\n",
    "if evennumber(numb) :    \n",
    "    print(f\"{numb} is an even number.\")\n",
    "else :\n",
    "    print(f\"{numb} is an odd number.\")\n",
    "    "
   ]
  },
  {
   "cell_type": "code",
   "execution_count": null,
   "metadata": {},
   "outputs": [],
   "source": [
    "# a solution\n",
    "\n",
    "def evennumber(arg) :\n",
    "    if (arg % 2) == 0 :\n",
    "        retval = True\n",
    "    else :\n",
    "        retval = False\n",
    "        \n",
    "    return retval    \n",
    "        "
   ]
  },
  {
   "cell_type": "code",
   "execution_count": null,
   "metadata": {},
   "outputs": [],
   "source": [
    "numb = int(input(\"Enter a number: \")) \n",
    "\n",
    "if evennumber(numb) :    \n",
    "    print(f\"{numb} is an even number.\")\n",
    "else :\n",
    "    print(f\"{numb} is an odd number.\")\n",
    "    "
   ]
  },
  {
   "cell_type": "code",
   "execution_count": null,
   "metadata": {},
   "outputs": [],
   "source": []
  },
  {
   "cell_type": "markdown",
   "metadata": {},
   "source": [
    "### Exercise 3\n",
    "Your team is tasked to write a function to suggest a beverage based on an age. \n",
    "Your function will be called by a main program as written in below cell. \n",
    "\n",
    "After talking with a customer, you found out that:\n",
    "1. legal age for drinking is 21. \n",
    "2. options for beverage are beer, milk, and soda. \n",
    "\n",
    "\n",
    "Both function and main program contain syntax errors and logical error. Fix errors and run to show it works."
   ]
  },
  {
   "cell_type": "code",
   "execution_count": 54,
   "metadata": {},
   "outputs": [],
   "source": [
    "# original \n",
    "\n",
    "def beverage(age) :\n",
    "    if age > 21 :\n",
    "        message = \"Have some beer.\"    \n",
    "\n",
    "    elseif age > 12 :\n",
    "        message = \"Have some soda.\"\n",
    "    else \n",
    "        message = \"Have some milk\"\n",
    "            \n",
    "    returns message    \n"
   ]
  },
  {
   "cell_type": "code",
   "execution_count": 55,
   "metadata": {},
   "outputs": [
    {
     "name": "stdout",
     "output_type": "stream",
     "text": [
      "Enter age:21\n",
      "Have some beer.\n",
      "Enter age:13\n",
      "Have some soda.\n",
      "Enter age:5\n",
      "Have some milk\n"
     ]
    }
   ],
   "source": [
    "# main program\n",
    "\n",
    "age = int(input(\"Enter age: \"))\n",
    "print(beverage(years))\n",
    "\n",
    "years = int(input(\"Enter age: \"))\n",
    "print(beverage(age))\n",
    "\n",
    "years = int(input(\"Enter age: \"))\n",
    "print(beverage(years))\n"
   ]
  },
  {
   "cell_type": "code",
   "execution_count": 1,
   "metadata": {},
   "outputs": [],
   "source": [
    "# solution \n",
    "\n",
    "def beverage(age) :\n",
    "    if age >= 21 :\n",
    "        message = \"Have some beer.\"    \n",
    "\n",
    "    elif age > 12 :\n",
    "        message = \"Have some soda.\"\n",
    "    else :\n",
    "        message = \"Have some milk\"\n",
    "             \n",
    "    return message    \n"
   ]
  },
  {
   "cell_type": "code",
   "execution_count": 2,
   "metadata": {},
   "outputs": [
    {
     "name": "stdout",
     "output_type": "stream",
     "text": [
      "Enter age: 21\n",
      "Have some beer.\n",
      "Enter age: 12\n",
      "Have some milk\n",
      "Enter age: 13\n",
      "Have some soda.\n"
     ]
    }
   ],
   "source": [
    "# main program\n",
    "\n",
    "age = int(input(\"Enter age: \"))\n",
    "print(beverage(age))\n",
    "\n",
    "age = int(input(\"Enter age: \"))\n",
    "print(beverage(age))\n",
    "\n",
    "age = int(input(\"Enter age: \"))\n",
    "print(beverage(age))\n"
   ]
  },
  {
   "cell_type": "markdown",
   "metadata": {},
   "source": [
    "### Exercise 4\n",
    "Write a program that prompts for an integer. Catch an exception error if input value is not an integer and print a friendly error message. \n",
    "The output should look something like this:\n",
    "\n",
    "    Enter an integer: 123.0\n",
    "    *** ERROR: 123.0 is not an integer\n",
    "\n",
    "    Enter an integer: abc\n",
    "    *** ERROR: abc is not an integer\n",
    "\n",
    "    Enter an integer: 123\n",
    "    123 is an integer"
   ]
  },
  {
   "cell_type": "code",
   "execution_count": 3,
   "metadata": {},
   "outputs": [],
   "source": [
    "# a solution\n",
    "\n",
    "def check_integer(parm1) :\n",
    "        \n",
    "    try:\n",
    "        retval = int(parm1)\n",
    "        retval = True\n",
    "    except:\n",
    "        print(f\"***ERROR: {parm1} is not an integer\")\n",
    "        retval = False\n",
    "        \n",
    "    return retval   \n"
   ]
  },
  {
   "cell_type": "code",
   "execution_count": 4,
   "metadata": {},
   "outputs": [
    {
     "name": "stdout",
     "output_type": "stream",
     "text": [
      "\n",
      "Enter an integer: 5\n",
      "5 is an integer\n",
      "********************\n",
      "\n",
      "Enter an integer: 5.2\n",
      "***ERROR: 5.2 is not an integer\n",
      "********************\n",
      "\n",
      "Enter an integer: a\n",
      "***ERROR: a is not an integer\n",
      "********************\n"
     ]
    }
   ],
   "source": [
    "\n",
    "val1 = input(\"\\nEnter an integer: \")\n",
    "if (check_integer(val1)) :\n",
    "    print(f\"{val1} is an integer\")\n",
    "\n",
    "print(\"*\" * 20)\n",
    "val1 = input(\"\\nEnter an integer: \")\n",
    "if (check_integer(val1)) :\n",
    "    print(f\"{val1} is an integer\")\n",
    "    \n",
    "print(\"*\" * 20)\n",
    "val1 = input(\"\\nEnter an integer: \")\n",
    "if (check_integer(val1)) :\n",
    "    print(f\"{val1} is an integer\")\n",
    "print(\"*\" * 20)"
   ]
  },
  {
   "cell_type": "code",
   "execution_count": null,
   "metadata": {},
   "outputs": [],
   "source": []
  }
 ],
 "metadata": {
  "kernelspec": {
   "display_name": "Python 3",
   "language": "python",
   "name": "python3"
  },
  "language_info": {
   "codemirror_mode": {
    "name": "ipython",
    "version": 3
   },
   "file_extension": ".py",
   "mimetype": "text/x-python",
   "name": "python",
   "nbconvert_exporter": "python",
   "pygments_lexer": "ipython3",
   "version": "3.7.6"
  }
 },
 "nbformat": 4,
 "nbformat_minor": 2
}
