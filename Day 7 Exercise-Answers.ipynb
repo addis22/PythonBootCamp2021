{
 "cells": [
  {
   "cell_type": "markdown",
   "metadata": {},
   "source": [
    "### Exercise 1\n",
    "Create a multiplication table from 1 to 10"
   ]
  },
  {
   "cell_type": "code",
   "execution_count": null,
   "metadata": {},
   "outputs": [],
   "source": [
    "for i in range(1, 11) :\n",
    "    for j in range(1, 11) :\n",
    "        k = i * j\n",
    "        print(f\"{k}\\t\", end=' ')\n",
    "    print()    "
   ]
  },
  {
   "cell_type": "markdown",
   "metadata": {},
   "source": [
    "### Exercise 2\n",
    "Write a program to find the Fibonacci numbers where each number is the sum of the two preceding ones, starting from 0 and 1. \n",
    "\n",
    "    e.g.\n",
    "    0, 1, 1, 2, 3, 5, 8, ...\n",
    "    \n",
    "Ask a user to enter a number of sequence. Generate the Fibonacci numbers in to a list. Then print out the list.  The output should look something like this:\n",
    "\n",
    "    How many Fibonacci numbers would you like to generate? 10    \n",
    "    10 Fibonacci numbers are [0, 1, 1, 2, 3, 5, 8, 13, 21, 34]."
   ]
  },
  {
   "cell_type": "code",
   "execution_count": null,
   "metadata": {},
   "outputs": [],
   "source": [
    "count = 0\n",
    "first = 0\n",
    "second = 1\n",
    "fibs = []\n",
    "\n",
    "numb = int(input(\"How many Fibonacci numbers would you like to generate? \"))\n",
    "\n",
    "while count < numb :\n",
    "    count += 1\n",
    "    fibs.append(first)\n",
    "    temp = first\n",
    "    first = second\n",
    "    second += temp\n",
    "    \n",
    "print(f\"{numb} Fibonacci numbers are {fibs}.\")    \n"
   ]
  },
  {
   "cell_type": "code",
   "execution_count": null,
   "metadata": {},
   "outputs": [],
   "source": []
  }
 ],
 "metadata": {
  "kernelspec": {
   "display_name": "Python 3",
   "language": "python",
   "name": "python3"
  },
  "language_info": {
   "codemirror_mode": {
    "name": "ipython",
    "version": 3
   },
   "file_extension": ".py",
   "mimetype": "text/x-python",
   "name": "python",
   "nbconvert_exporter": "python",
   "pygments_lexer": "ipython3",
   "version": "3.7.6"
  }
 },
 "nbformat": 4,
 "nbformat_minor": 4
}
